{
 "cells": [
  {
   "cell_type": "code",
   "id": "initial_id",
   "metadata": {
    "collapsed": true,
    "ExecuteTime": {
     "end_time": "2024-12-27T14:58:03.626157Z",
     "start_time": "2024-12-27T14:58:03.621784Z"
    }
   },
   "source": [
    "import os\n",
    "import pandas as pd\n"
   ],
   "outputs": [],
   "execution_count": 3
  },
  {
   "metadata": {
    "ExecuteTime": {
     "end_time": "2024-12-27T14:58:04.216123Z",
     "start_time": "2024-12-27T14:58:03.973719Z"
    }
   },
   "cell_type": "code",
   "source": [
    "file='./源数据128张表格/垂钓装备&绑钩器.xlsx'\n",
    "df=pd.read_excel(file)\n",
    "df.head(10)"
   ],
   "id": "2ce14c0c65ee1626",
   "outputs": [
    {
     "data": {
      "text/plain": [
       "        日期       转化率     访客数 三级类目         客单价     品牌\n",
       "0  2019-08  0.025806  221402  绑钩器   33.284283  品牌-17\n",
       "1  2019-08  0.019638   14074  绑钩器  233.995330  品牌-12\n",
       "2  2019-08  0.065407   75392  绑钩器   11.938785  品牌-20\n",
       "3  2019-08  0.015905   85529  绑钩器   41.059966  品牌-13\n",
       "4  2019-08  0.039033   23839  绑钩器   44.502008   品牌-1\n",
       "5  2019-08  0.021992    9145  绑钩器  200.324598   品牌-5\n",
       "6  2019-08  0.022965   32891  绑钩器   43.851649   品牌-3\n",
       "7  2019-08  0.035300   49135  绑钩器   16.985544  品牌-19\n",
       "8  2019-08  0.020287   17329  绑钩器   73.811901  品牌-11\n",
       "9  2019-08  0.032217   18724  绑钩器   40.693616   品牌-2"
      ],
      "text/html": [
       "<div>\n",
       "<style scoped>\n",
       "    .dataframe tbody tr th:only-of-type {\n",
       "        vertical-align: middle;\n",
       "    }\n",
       "\n",
       "    .dataframe tbody tr th {\n",
       "        vertical-align: top;\n",
       "    }\n",
       "\n",
       "    .dataframe thead th {\n",
       "        text-align: right;\n",
       "    }\n",
       "</style>\n",
       "<table border=\"1\" class=\"dataframe\">\n",
       "  <thead>\n",
       "    <tr style=\"text-align: right;\">\n",
       "      <th></th>\n",
       "      <th>日期</th>\n",
       "      <th>转化率</th>\n",
       "      <th>访客数</th>\n",
       "      <th>三级类目</th>\n",
       "      <th>客单价</th>\n",
       "      <th>品牌</th>\n",
       "    </tr>\n",
       "  </thead>\n",
       "  <tbody>\n",
       "    <tr>\n",
       "      <th>0</th>\n",
       "      <td>2019-08</td>\n",
       "      <td>0.025806</td>\n",
       "      <td>221402</td>\n",
       "      <td>绑钩器</td>\n",
       "      <td>33.284283</td>\n",
       "      <td>品牌-17</td>\n",
       "    </tr>\n",
       "    <tr>\n",
       "      <th>1</th>\n",
       "      <td>2019-08</td>\n",
       "      <td>0.019638</td>\n",
       "      <td>14074</td>\n",
       "      <td>绑钩器</td>\n",
       "      <td>233.995330</td>\n",
       "      <td>品牌-12</td>\n",
       "    </tr>\n",
       "    <tr>\n",
       "      <th>2</th>\n",
       "      <td>2019-08</td>\n",
       "      <td>0.065407</td>\n",
       "      <td>75392</td>\n",
       "      <td>绑钩器</td>\n",
       "      <td>11.938785</td>\n",
       "      <td>品牌-20</td>\n",
       "    </tr>\n",
       "    <tr>\n",
       "      <th>3</th>\n",
       "      <td>2019-08</td>\n",
       "      <td>0.015905</td>\n",
       "      <td>85529</td>\n",
       "      <td>绑钩器</td>\n",
       "      <td>41.059966</td>\n",
       "      <td>品牌-13</td>\n",
       "    </tr>\n",
       "    <tr>\n",
       "      <th>4</th>\n",
       "      <td>2019-08</td>\n",
       "      <td>0.039033</td>\n",
       "      <td>23839</td>\n",
       "      <td>绑钩器</td>\n",
       "      <td>44.502008</td>\n",
       "      <td>品牌-1</td>\n",
       "    </tr>\n",
       "    <tr>\n",
       "      <th>5</th>\n",
       "      <td>2019-08</td>\n",
       "      <td>0.021992</td>\n",
       "      <td>9145</td>\n",
       "      <td>绑钩器</td>\n",
       "      <td>200.324598</td>\n",
       "      <td>品牌-5</td>\n",
       "    </tr>\n",
       "    <tr>\n",
       "      <th>6</th>\n",
       "      <td>2019-08</td>\n",
       "      <td>0.022965</td>\n",
       "      <td>32891</td>\n",
       "      <td>绑钩器</td>\n",
       "      <td>43.851649</td>\n",
       "      <td>品牌-3</td>\n",
       "    </tr>\n",
       "    <tr>\n",
       "      <th>7</th>\n",
       "      <td>2019-08</td>\n",
       "      <td>0.035300</td>\n",
       "      <td>49135</td>\n",
       "      <td>绑钩器</td>\n",
       "      <td>16.985544</td>\n",
       "      <td>品牌-19</td>\n",
       "    </tr>\n",
       "    <tr>\n",
       "      <th>8</th>\n",
       "      <td>2019-08</td>\n",
       "      <td>0.020287</td>\n",
       "      <td>17329</td>\n",
       "      <td>绑钩器</td>\n",
       "      <td>73.811901</td>\n",
       "      <td>品牌-11</td>\n",
       "    </tr>\n",
       "    <tr>\n",
       "      <th>9</th>\n",
       "      <td>2019-08</td>\n",
       "      <td>0.032217</td>\n",
       "      <td>18724</td>\n",
       "      <td>绑钩器</td>\n",
       "      <td>40.693616</td>\n",
       "      <td>品牌-2</td>\n",
       "    </tr>\n",
       "  </tbody>\n",
       "</table>\n",
       "</div>"
      ]
     },
     "execution_count": 4,
     "metadata": {},
     "output_type": "execute_result"
    }
   ],
   "execution_count": 4
  },
  {
   "metadata": {
    "ExecuteTime": {
     "end_time": "2024-12-27T15:01:55.403840Z",
     "start_time": "2024-12-27T15:01:55.399174Z"
    }
   },
   "cell_type": "code",
   "source": [
    "df.drop_duplicates(subset=['日期'],inplace=False)['日期']\n",
    "df['日期'].unique()"
   ],
   "id": "afec0b5ccab25967",
   "outputs": [
    {
     "data": {
      "text/plain": [
       "array(['2019-08', '2019-07', '2019-06', '2019-05', '2019-04', '2019-03',\n",
       "       '2019-02', '2019-01', '2018-12', '2018-11', '2018-10', '2018-09'],\n",
       "      dtype=object)"
      ]
     },
     "execution_count": 6,
     "metadata": {},
     "output_type": "execute_result"
    }
   ],
   "execution_count": 6
  },
  {
   "metadata": {
    "ExecuteTime": {
     "end_time": "2024-12-27T15:03:00.681555Z",
     "start_time": "2024-12-27T15:03:00.672666Z"
    }
   },
   "cell_type": "code",
   "source": [
    "df['销售额']=df['访客数']*df['转化率']*df['客单价']\n",
    "df.head(10)"
   ],
   "id": "10605358ad89fa7",
   "outputs": [
    {
     "data": {
      "text/plain": [
       "        日期       转化率     访客数 三级类目         客单价     品牌            销售额\n",
       "0  2019-08  0.025806  221402  绑钩器   33.284283  品牌-17  190167.455681\n",
       "1  2019-08  0.019638   14074  绑钩器  233.995330  品牌-12   64673.807815\n",
       "2  2019-08  0.065407   75392  绑钩器   11.938785  品牌-20   58871.997672\n",
       "3  2019-08  0.015905   85529  绑钩器   41.059966  品牌-13   55856.842507\n",
       "4  2019-08  0.039033   23839  绑钩器   44.502008   品牌-1   41409.600947\n",
       "5  2019-08  0.021992    9145  绑钩器  200.324598   品牌-5   40287.990724\n",
       "6  2019-08  0.022965   32891  绑钩器   43.851649   品牌-3   33123.618573\n",
       "7  2019-08  0.035300   49135  绑钩器   16.985544  品牌-19   29461.035477\n",
       "8  2019-08  0.020287   17329  绑钩器   73.811901  品牌-11   25949.454477\n",
       "9  2019-08  0.032217   18724  绑钩器   40.693616   品牌-2   24547.301353"
      ],
      "text/html": [
       "<div>\n",
       "<style scoped>\n",
       "    .dataframe tbody tr th:only-of-type {\n",
       "        vertical-align: middle;\n",
       "    }\n",
       "\n",
       "    .dataframe tbody tr th {\n",
       "        vertical-align: top;\n",
       "    }\n",
       "\n",
       "    .dataframe thead th {\n",
       "        text-align: right;\n",
       "    }\n",
       "</style>\n",
       "<table border=\"1\" class=\"dataframe\">\n",
       "  <thead>\n",
       "    <tr style=\"text-align: right;\">\n",
       "      <th></th>\n",
       "      <th>日期</th>\n",
       "      <th>转化率</th>\n",
       "      <th>访客数</th>\n",
       "      <th>三级类目</th>\n",
       "      <th>客单价</th>\n",
       "      <th>品牌</th>\n",
       "      <th>销售额</th>\n",
       "    </tr>\n",
       "  </thead>\n",
       "  <tbody>\n",
       "    <tr>\n",
       "      <th>0</th>\n",
       "      <td>2019-08</td>\n",
       "      <td>0.025806</td>\n",
       "      <td>221402</td>\n",
       "      <td>绑钩器</td>\n",
       "      <td>33.284283</td>\n",
       "      <td>品牌-17</td>\n",
       "      <td>190167.455681</td>\n",
       "    </tr>\n",
       "    <tr>\n",
       "      <th>1</th>\n",
       "      <td>2019-08</td>\n",
       "      <td>0.019638</td>\n",
       "      <td>14074</td>\n",
       "      <td>绑钩器</td>\n",
       "      <td>233.995330</td>\n",
       "      <td>品牌-12</td>\n",
       "      <td>64673.807815</td>\n",
       "    </tr>\n",
       "    <tr>\n",
       "      <th>2</th>\n",
       "      <td>2019-08</td>\n",
       "      <td>0.065407</td>\n",
       "      <td>75392</td>\n",
       "      <td>绑钩器</td>\n",
       "      <td>11.938785</td>\n",
       "      <td>品牌-20</td>\n",
       "      <td>58871.997672</td>\n",
       "    </tr>\n",
       "    <tr>\n",
       "      <th>3</th>\n",
       "      <td>2019-08</td>\n",
       "      <td>0.015905</td>\n",
       "      <td>85529</td>\n",
       "      <td>绑钩器</td>\n",
       "      <td>41.059966</td>\n",
       "      <td>品牌-13</td>\n",
       "      <td>55856.842507</td>\n",
       "    </tr>\n",
       "    <tr>\n",
       "      <th>4</th>\n",
       "      <td>2019-08</td>\n",
       "      <td>0.039033</td>\n",
       "      <td>23839</td>\n",
       "      <td>绑钩器</td>\n",
       "      <td>44.502008</td>\n",
       "      <td>品牌-1</td>\n",
       "      <td>41409.600947</td>\n",
       "    </tr>\n",
       "    <tr>\n",
       "      <th>5</th>\n",
       "      <td>2019-08</td>\n",
       "      <td>0.021992</td>\n",
       "      <td>9145</td>\n",
       "      <td>绑钩器</td>\n",
       "      <td>200.324598</td>\n",
       "      <td>品牌-5</td>\n",
       "      <td>40287.990724</td>\n",
       "    </tr>\n",
       "    <tr>\n",
       "      <th>6</th>\n",
       "      <td>2019-08</td>\n",
       "      <td>0.022965</td>\n",
       "      <td>32891</td>\n",
       "      <td>绑钩器</td>\n",
       "      <td>43.851649</td>\n",
       "      <td>品牌-3</td>\n",
       "      <td>33123.618573</td>\n",
       "    </tr>\n",
       "    <tr>\n",
       "      <th>7</th>\n",
       "      <td>2019-08</td>\n",
       "      <td>0.035300</td>\n",
       "      <td>49135</td>\n",
       "      <td>绑钩器</td>\n",
       "      <td>16.985544</td>\n",
       "      <td>品牌-19</td>\n",
       "      <td>29461.035477</td>\n",
       "    </tr>\n",
       "    <tr>\n",
       "      <th>8</th>\n",
       "      <td>2019-08</td>\n",
       "      <td>0.020287</td>\n",
       "      <td>17329</td>\n",
       "      <td>绑钩器</td>\n",
       "      <td>73.811901</td>\n",
       "      <td>品牌-11</td>\n",
       "      <td>25949.454477</td>\n",
       "    </tr>\n",
       "    <tr>\n",
       "      <th>9</th>\n",
       "      <td>2019-08</td>\n",
       "      <td>0.032217</td>\n",
       "      <td>18724</td>\n",
       "      <td>绑钩器</td>\n",
       "      <td>40.693616</td>\n",
       "      <td>品牌-2</td>\n",
       "      <td>24547.301353</td>\n",
       "    </tr>\n",
       "  </tbody>\n",
       "</table>\n",
       "</div>"
      ]
     },
     "execution_count": 7,
     "metadata": {},
     "output_type": "execute_result"
    }
   ],
   "execution_count": 7
  },
  {
   "metadata": {
    "ExecuteTime": {
     "end_time": "2024-12-27T15:04:57.398146Z",
     "start_time": "2024-12-27T15:04:57.391844Z"
    }
   },
   "cell_type": "code",
   "source": [
    "df_sum=df.groupby('品牌')['销售额'].sum().reset_index()\n",
    "df_sum.head(3)"
   ],
   "id": "73d55760db9d86d",
   "outputs": [
    {
     "data": {
      "text/plain": [
       "      品牌            销售额\n",
       "0   品牌-1  529837.745358\n",
       "1  品牌-10  217976.661847\n",
       "2  品牌-11  327093.079507"
      ],
      "text/html": [
       "<div>\n",
       "<style scoped>\n",
       "    .dataframe tbody tr th:only-of-type {\n",
       "        vertical-align: middle;\n",
       "    }\n",
       "\n",
       "    .dataframe tbody tr th {\n",
       "        vertical-align: top;\n",
       "    }\n",
       "\n",
       "    .dataframe thead th {\n",
       "        text-align: right;\n",
       "    }\n",
       "</style>\n",
       "<table border=\"1\" class=\"dataframe\">\n",
       "  <thead>\n",
       "    <tr style=\"text-align: right;\">\n",
       "      <th></th>\n",
       "      <th>品牌</th>\n",
       "      <th>销售额</th>\n",
       "    </tr>\n",
       "  </thead>\n",
       "  <tbody>\n",
       "    <tr>\n",
       "      <th>0</th>\n",
       "      <td>品牌-1</td>\n",
       "      <td>529837.745358</td>\n",
       "    </tr>\n",
       "    <tr>\n",
       "      <th>1</th>\n",
       "      <td>品牌-10</td>\n",
       "      <td>217976.661847</td>\n",
       "    </tr>\n",
       "    <tr>\n",
       "      <th>2</th>\n",
       "      <td>品牌-11</td>\n",
       "      <td>327093.079507</td>\n",
       "    </tr>\n",
       "  </tbody>\n",
       "</table>\n",
       "</div>"
      ]
     },
     "execution_count": 11,
     "metadata": {},
     "output_type": "execute_result"
    }
   ],
   "execution_count": 11
  },
  {
   "metadata": {
    "ExecuteTime": {
     "end_time": "2024-12-27T15:08:33.578949Z",
     "start_time": "2024-12-27T15:08:33.571974Z"
    }
   },
   "cell_type": "code",
   "source": [
    "df_sum['行业']=file.replace('.xlsx','').split('/')[-1]\n",
    "df_sum.head(3)"
   ],
   "id": "522fe5849c42932b",
   "outputs": [
    {
     "data": {
      "text/plain": [
       "      品牌            销售额        行业\n",
       "0   品牌-1  529837.745358  垂钓装备&绑钩器\n",
       "1  品牌-10  217976.661847  垂钓装备&绑钩器\n",
       "2  品牌-11  327093.079507  垂钓装备&绑钩器"
      ],
      "text/html": [
       "<div>\n",
       "<style scoped>\n",
       "    .dataframe tbody tr th:only-of-type {\n",
       "        vertical-align: middle;\n",
       "    }\n",
       "\n",
       "    .dataframe tbody tr th {\n",
       "        vertical-align: top;\n",
       "    }\n",
       "\n",
       "    .dataframe thead th {\n",
       "        text-align: right;\n",
       "    }\n",
       "</style>\n",
       "<table border=\"1\" class=\"dataframe\">\n",
       "  <thead>\n",
       "    <tr style=\"text-align: right;\">\n",
       "      <th></th>\n",
       "      <th>品牌</th>\n",
       "      <th>销售额</th>\n",
       "      <th>行业</th>\n",
       "    </tr>\n",
       "  </thead>\n",
       "  <tbody>\n",
       "    <tr>\n",
       "      <th>0</th>\n",
       "      <td>品牌-1</td>\n",
       "      <td>529837.745358</td>\n",
       "      <td>垂钓装备&amp;绑钩器</td>\n",
       "    </tr>\n",
       "    <tr>\n",
       "      <th>1</th>\n",
       "      <td>品牌-10</td>\n",
       "      <td>217976.661847</td>\n",
       "      <td>垂钓装备&amp;绑钩器</td>\n",
       "    </tr>\n",
       "    <tr>\n",
       "      <th>2</th>\n",
       "      <td>品牌-11</td>\n",
       "      <td>327093.079507</td>\n",
       "      <td>垂钓装备&amp;绑钩器</td>\n",
       "    </tr>\n",
       "  </tbody>\n",
       "</table>\n",
       "</div>"
      ]
     },
     "execution_count": 14,
     "metadata": {},
     "output_type": "execute_result"
    }
   ],
   "execution_count": 14
  },
  {
   "metadata": {
    "ExecuteTime": {
     "end_time": "2024-12-27T15:09:01.576153Z",
     "start_time": "2024-12-27T15:09:01.573571Z"
    }
   },
   "cell_type": "code",
   "source": "#批量循环执行",
   "id": "f1954c81cb1e6824",
   "outputs": [],
   "execution_count": 15
  },
  {
   "metadata": {},
   "cell_type": "code",
   "outputs": [],
   "execution_count": null,
   "source": " ",
   "id": "be66129cc81deb0d"
  },
  {
   "metadata": {
    "ExecuteTime": {
     "end_time": "2024-12-27T15:18:42.709836Z",
     "start_time": "2024-12-27T15:18:39.833307Z"
    }
   },
   "cell_type": "code",
   "source": [
    "import time\n",
    "start=time.time()\n",
    "\n",
    "result=pd.DataFrame()\n",
    "dir='源数据128张表格'\n",
    "for name in os.listdir(dir):\n",
    "    df = pd.read_excel(os.path.join(dir,name))\n",
    "    df['销售额']=df['访客数']*df['转化率']*df['客单价']\n",
    "    df_sum=df.groupby('品牌')['销售额'].sum().reset_index()\n",
    "    df_sum['行业']=name\n",
    "    result=pd.concat([result,df_sum])\n",
    "\n",
    "final_result = result.groupby('品牌')['销售额'].sum().reset_index()\n",
    "end =time.time()\n",
    "\n",
    "print(end-start)\n",
    "    \n"
   ],
   "id": "c55535744e7ff486",
   "outputs": [
    {
     "name": "stdout",
     "output_type": "stream",
     "text": [
      "2.873049020767212\n"
     ]
    }
   ],
   "execution_count": 23
  },
  {
   "metadata": {
    "ExecuteTime": {
     "end_time": "2024-12-27T15:18:42.717386Z",
     "start_time": "2024-12-27T15:18:42.711341Z"
    }
   },
   "cell_type": "code",
   "source": [
    "pd.set_option('display.float_format', lambda x: '%.3f' % x)\n",
    "final_result.head(3)"
   ],
   "id": "cfd8557ecda4c787",
   "outputs": [
    {
     "data": {
      "text/plain": [
       "      品牌            销售额\n",
       "0   品牌-1 1061681673.415\n",
       "1  品牌-10 1088054963.479\n",
       "2  品牌-11 1151829215.732"
      ],
      "text/html": [
       "<div>\n",
       "<style scoped>\n",
       "    .dataframe tbody tr th:only-of-type {\n",
       "        vertical-align: middle;\n",
       "    }\n",
       "\n",
       "    .dataframe tbody tr th {\n",
       "        vertical-align: top;\n",
       "    }\n",
       "\n",
       "    .dataframe thead th {\n",
       "        text-align: right;\n",
       "    }\n",
       "</style>\n",
       "<table border=\"1\" class=\"dataframe\">\n",
       "  <thead>\n",
       "    <tr style=\"text-align: right;\">\n",
       "      <th></th>\n",
       "      <th>品牌</th>\n",
       "      <th>销售额</th>\n",
       "    </tr>\n",
       "  </thead>\n",
       "  <tbody>\n",
       "    <tr>\n",
       "      <th>0</th>\n",
       "      <td>品牌-1</td>\n",
       "      <td>1061681673.415</td>\n",
       "    </tr>\n",
       "    <tr>\n",
       "      <th>1</th>\n",
       "      <td>品牌-10</td>\n",
       "      <td>1088054963.479</td>\n",
       "    </tr>\n",
       "    <tr>\n",
       "      <th>2</th>\n",
       "      <td>品牌-11</td>\n",
       "      <td>1151829215.732</td>\n",
       "    </tr>\n",
       "  </tbody>\n",
       "</table>\n",
       "</div>"
      ]
     },
     "execution_count": 24,
     "metadata": {},
     "output_type": "execute_result"
    }
   ],
   "execution_count": 24
  },
  {
   "metadata": {
    "ExecuteTime": {
     "end_time": "2024-12-27T15:20:25.084674Z",
     "start_time": "2024-12-27T15:20:25.077713Z"
    }
   },
   "cell_type": "code",
   "source": "final_result.sort_values(['销售额'],ascending=False)[0:5]",
   "id": "aad53d1c1741a925",
   "outputs": [
    {
     "data": {
      "text/plain": [
       "       品牌            销售额\n",
       "15   品牌-5 1226223640.733\n",
       "8   品牌-17 1195280571.601\n",
       "2   品牌-11 1151829215.732\n",
       "4   品牌-13 1150687029.658\n",
       "3   品牌-12 1143519788.231"
      ],
      "text/html": [
       "<div>\n",
       "<style scoped>\n",
       "    .dataframe tbody tr th:only-of-type {\n",
       "        vertical-align: middle;\n",
       "    }\n",
       "\n",
       "    .dataframe tbody tr th {\n",
       "        vertical-align: top;\n",
       "    }\n",
       "\n",
       "    .dataframe thead th {\n",
       "        text-align: right;\n",
       "    }\n",
       "</style>\n",
       "<table border=\"1\" class=\"dataframe\">\n",
       "  <thead>\n",
       "    <tr style=\"text-align: right;\">\n",
       "      <th></th>\n",
       "      <th>品牌</th>\n",
       "      <th>销售额</th>\n",
       "    </tr>\n",
       "  </thead>\n",
       "  <tbody>\n",
       "    <tr>\n",
       "      <th>15</th>\n",
       "      <td>品牌-5</td>\n",
       "      <td>1226223640.733</td>\n",
       "    </tr>\n",
       "    <tr>\n",
       "      <th>8</th>\n",
       "      <td>品牌-17</td>\n",
       "      <td>1195280571.601</td>\n",
       "    </tr>\n",
       "    <tr>\n",
       "      <th>2</th>\n",
       "      <td>品牌-11</td>\n",
       "      <td>1151829215.732</td>\n",
       "    </tr>\n",
       "    <tr>\n",
       "      <th>4</th>\n",
       "      <td>品牌-13</td>\n",
       "      <td>1150687029.658</td>\n",
       "    </tr>\n",
       "    <tr>\n",
       "      <th>3</th>\n",
       "      <td>品牌-12</td>\n",
       "      <td>1143519788.231</td>\n",
       "    </tr>\n",
       "  </tbody>\n",
       "</table>\n",
       "</div>"
      ]
     },
     "execution_count": 25,
     "metadata": {},
     "output_type": "execute_result"
    }
   ],
   "execution_count": 25
  },
  {
   "metadata": {},
   "cell_type": "code",
   "outputs": [],
   "execution_count": null,
   "source": "",
   "id": "78b251d4ab983e66"
  }
 ],
 "metadata": {
  "kernelspec": {
   "display_name": "Python 3",
   "language": "python",
   "name": "python3"
  },
  "language_info": {
   "codemirror_mode": {
    "name": "ipython",
    "version": 2
   },
   "file_extension": ".py",
   "mimetype": "text/x-python",
   "name": "python",
   "nbconvert_exporter": "python",
   "pygments_lexer": "ipython2",
   "version": "2.7.6"
  }
 },
 "nbformat": 4,
 "nbformat_minor": 5
}
